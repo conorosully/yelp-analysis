{
 "cells": [
  {
   "cell_type": "markdown",
   "metadata": {},
   "source": [
    "# Obtain results for question 2"
   ]
  },
  {
   "cell_type": "code",
   "execution_count": 1,
   "metadata": {},
   "outputs": [],
   "source": [
    "import numpy as np\n",
    "import pandas as pd\n",
    "\n",
    "import matplotlib.pyplot as plt\n",
    "import seaborn as sns\n",
    "%matplotlib inline\n",
    "\n",
    "from sklearn.svm import SVC\n",
    "from sklearn.metrics import classification_report,confusion_matrix,accuracy_score\n",
    "from sklearn.model_selection import train_test_split\n",
    "import matplotlib.patches as mpatches\n",
    "import statsmodels.api as sm\n",
    "\n",
    "from datetime import datetime\n",
    "figure_path = \"/Users/conorosully/Google Drive/Trinity/S2/Applied Statistical Modelling/A2/doc/Sections/Figures/{}\"\n"
   ]
  },
  {
   "cell_type": "code",
   "execution_count": 2,
   "metadata": {},
   "outputs": [
    {
     "name": "stdout",
     "output_type": "stream",
     "text": [
      "7148\n",
      "Index(['business_id', 'name', 'latitude', 'longitude', 'review_count', 'stars',\n",
      "       'is_open', 'Italian', 'Japanese', 'Pizza', 'Coffee & Tea', 'stars_1',\n",
      "       'stars_2', 'stars_3', 'stars_4', 'stars_5', 'length', 'last_year',\n",
      "       'last_date'],\n",
      "      dtype='object')\n"
     ]
    },
    {
     "data": {
      "text/html": [
       "<div>\n",
       "<style scoped>\n",
       "    .dataframe tbody tr th:only-of-type {\n",
       "        vertical-align: middle;\n",
       "    }\n",
       "\n",
       "    .dataframe tbody tr th {\n",
       "        vertical-align: top;\n",
       "    }\n",
       "\n",
       "    .dataframe thead th {\n",
       "        text-align: right;\n",
       "    }\n",
       "</style>\n",
       "<table border=\"1\" class=\"dataframe\">\n",
       "  <thead>\n",
       "    <tr style=\"text-align: right;\">\n",
       "      <th></th>\n",
       "      <th>business_id</th>\n",
       "      <th>name</th>\n",
       "      <th>latitude</th>\n",
       "      <th>longitude</th>\n",
       "      <th>review_count</th>\n",
       "      <th>stars</th>\n",
       "      <th>is_open</th>\n",
       "      <th>Italian</th>\n",
       "      <th>Japanese</th>\n",
       "      <th>Pizza</th>\n",
       "      <th>Coffee &amp; Tea</th>\n",
       "      <th>stars_1</th>\n",
       "      <th>stars_2</th>\n",
       "      <th>stars_3</th>\n",
       "      <th>stars_4</th>\n",
       "      <th>stars_5</th>\n",
       "      <th>length</th>\n",
       "      <th>last_year</th>\n",
       "      <th>last_date</th>\n",
       "    </tr>\n",
       "  </thead>\n",
       "  <tbody>\n",
       "    <tr>\n",
       "      <th>0</th>\n",
       "      <td>l09JfMeQ6ynYs5MCJtrcmQ</td>\n",
       "      <td>Alize Catering</td>\n",
       "      <td>43.71140</td>\n",
       "      <td>-79.39934</td>\n",
       "      <td>12</td>\n",
       "      <td>3.0</td>\n",
       "      <td>0</td>\n",
       "      <td>1</td>\n",
       "      <td>0</td>\n",
       "      <td>0</td>\n",
       "      <td>0</td>\n",
       "      <td>2</td>\n",
       "      <td>2</td>\n",
       "      <td>4</td>\n",
       "      <td>3</td>\n",
       "      <td>1</td>\n",
       "      <td>1475.750000</td>\n",
       "      <td>2012</td>\n",
       "      <td>1334444400</td>\n",
       "    </tr>\n",
       "    <tr>\n",
       "      <th>1</th>\n",
       "      <td>1K4qrnfyzKzGgJPBEcJaNQ</td>\n",
       "      <td>Chula Taberna Mexicana</td>\n",
       "      <td>43.66926</td>\n",
       "      <td>-79.33590</td>\n",
       "      <td>39</td>\n",
       "      <td>3.5</td>\n",
       "      <td>1</td>\n",
       "      <td>0</td>\n",
       "      <td>0</td>\n",
       "      <td>0</td>\n",
       "      <td>0</td>\n",
       "      <td>0</td>\n",
       "      <td>4</td>\n",
       "      <td>11</td>\n",
       "      <td>20</td>\n",
       "      <td>4</td>\n",
       "      <td>643.153846</td>\n",
       "      <td>2017</td>\n",
       "      <td>1511827200</td>\n",
       "    </tr>\n",
       "    <tr>\n",
       "      <th>2</th>\n",
       "      <td>nbhBRhZtdaZmMMeb2i02pg</td>\n",
       "      <td>Sunnyside Grill</td>\n",
       "      <td>43.78182</td>\n",
       "      <td>-79.49043</td>\n",
       "      <td>3</td>\n",
       "      <td>5.0</td>\n",
       "      <td>1</td>\n",
       "      <td>0</td>\n",
       "      <td>0</td>\n",
       "      <td>0</td>\n",
       "      <td>0</td>\n",
       "      <td>0</td>\n",
       "      <td>0</td>\n",
       "      <td>0</td>\n",
       "      <td>0</td>\n",
       "      <td>3</td>\n",
       "      <td>218.333333</td>\n",
       "      <td>2017</td>\n",
       "      <td>1512777600</td>\n",
       "    </tr>\n",
       "    <tr>\n",
       "      <th>3</th>\n",
       "      <td>FXHfcFVEfI1vVngW2gVOpw</td>\n",
       "      <td>Bampot House of Tea &amp; Board Games</td>\n",
       "      <td>43.66158</td>\n",
       "      <td>-79.40888</td>\n",
       "      <td>55</td>\n",
       "      <td>4.0</td>\n",
       "      <td>1</td>\n",
       "      <td>0</td>\n",
       "      <td>0</td>\n",
       "      <td>0</td>\n",
       "      <td>1</td>\n",
       "      <td>4</td>\n",
       "      <td>3</td>\n",
       "      <td>4</td>\n",
       "      <td>14</td>\n",
       "      <td>30</td>\n",
       "      <td>838.800000</td>\n",
       "      <td>2017</td>\n",
       "      <td>1510099200</td>\n",
       "    </tr>\n",
       "    <tr>\n",
       "      <th>4</th>\n",
       "      <td>VXH7zXcZzXlmAVN8GSjGRQ</td>\n",
       "      <td>Thai Express</td>\n",
       "      <td>43.77488</td>\n",
       "      <td>-79.49462</td>\n",
       "      <td>5</td>\n",
       "      <td>3.0</td>\n",
       "      <td>1</td>\n",
       "      <td>0</td>\n",
       "      <td>0</td>\n",
       "      <td>0</td>\n",
       "      <td>0</td>\n",
       "      <td>1</td>\n",
       "      <td>0</td>\n",
       "      <td>2</td>\n",
       "      <td>1</td>\n",
       "      <td>1</td>\n",
       "      <td>341.400000</td>\n",
       "      <td>2017</td>\n",
       "      <td>1512172800</td>\n",
       "    </tr>\n",
       "  </tbody>\n",
       "</table>\n",
       "</div>"
      ],
      "text/plain": [
       "              business_id                               name  latitude  \\\n",
       "0  l09JfMeQ6ynYs5MCJtrcmQ                     Alize Catering  43.71140   \n",
       "1  1K4qrnfyzKzGgJPBEcJaNQ             Chula Taberna Mexicana  43.66926   \n",
       "2  nbhBRhZtdaZmMMeb2i02pg                    Sunnyside Grill  43.78182   \n",
       "3  FXHfcFVEfI1vVngW2gVOpw  Bampot House of Tea & Board Games  43.66158   \n",
       "4  VXH7zXcZzXlmAVN8GSjGRQ                       Thai Express  43.77488   \n",
       "\n",
       "   longitude  review_count  stars  is_open  Italian  Japanese  Pizza  \\\n",
       "0  -79.39934            12    3.0        0        1         0      0   \n",
       "1  -79.33590            39    3.5        1        0         0      0   \n",
       "2  -79.49043             3    5.0        1        0         0      0   \n",
       "3  -79.40888            55    4.0        1        0         0      0   \n",
       "4  -79.49462             5    3.0        1        0         0      0   \n",
       "\n",
       "   Coffee & Tea  stars_1  stars_2  stars_3  stars_4  stars_5       length  \\\n",
       "0             0        2        2        4        3        1  1475.750000   \n",
       "1             0        0        4       11       20        4   643.153846   \n",
       "2             0        0        0        0        0        3   218.333333   \n",
       "3             1        4        3        4       14       30   838.800000   \n",
       "4             0        1        0        2        1        1   341.400000   \n",
       "\n",
       "   last_year   last_date  \n",
       "0       2012  1334444400  \n",
       "1       2017  1511827200  \n",
       "2       2017  1512777600  \n",
       "3       2017  1510099200  \n",
       "4       2017  1512172800  "
      ]
     },
     "execution_count": 2,
     "metadata": {},
     "output_type": "execute_result"
    }
   ],
   "source": [
    "question2_1 = pd.read_csv(\"data/question2_1.csv\")\n",
    "print(len(question2_1))\n",
    "print(question2_1.columns)\n",
    "question2_1.head()"
   ]
  },
  {
   "cell_type": "code",
   "execution_count": 4,
   "metadata": {
    "collapsed": true
   },
   "outputs": [
    {
     "ename": "NameError",
     "evalue": "name 'question2' is not defined",
     "output_type": "error",
     "traceback": [
      "\u001b[0;31m---------------------------------------------------------------------------\u001b[0m",
      "\u001b[0;31mNameError\u001b[0m                                 Traceback (most recent call last)",
      "\u001b[0;32m<ipython-input-4-eb27eeec614b>\u001b[0m in \u001b[0;36m<module>\u001b[0;34m\u001b[0m\n\u001b[1;32m      1\u001b[0m \u001b[0mfig\u001b[0m\u001b[0;34m,\u001b[0m \u001b[0max\u001b[0m \u001b[0;34m=\u001b[0m \u001b[0mplt\u001b[0m\u001b[0;34m.\u001b[0m\u001b[0msubplots\u001b[0m\u001b[0;34m(\u001b[0m \u001b[0mnrows\u001b[0m\u001b[0;34m=\u001b[0m\u001b[0;36m1\u001b[0m\u001b[0;34m,\u001b[0m \u001b[0mncols\u001b[0m\u001b[0;34m=\u001b[0m\u001b[0;36m1\u001b[0m\u001b[0;34m,\u001b[0m\u001b[0mfigsize\u001b[0m\u001b[0;34m=\u001b[0m\u001b[0;34m(\u001b[0m\u001b[0;36m10\u001b[0m\u001b[0;34m,\u001b[0m\u001b[0;36m10\u001b[0m\u001b[0;34m)\u001b[0m \u001b[0;34m)\u001b[0m\u001b[0;34m\u001b[0m\u001b[0m\n\u001b[0;32m----> 2\u001b[0;31m \u001b[0max\u001b[0m \u001b[0;34m=\u001b[0m \u001b[0msns\u001b[0m\u001b[0;34m.\u001b[0m\u001b[0mheatmap\u001b[0m\u001b[0;34m(\u001b[0m\u001b[0mquestion2\u001b[0m\u001b[0;34m.\u001b[0m\u001b[0misnull\u001b[0m\u001b[0;34m(\u001b[0m\u001b[0;34m)\u001b[0m\u001b[0;34m,\u001b[0m\u001b[0mcbar\u001b[0m\u001b[0;34m=\u001b[0m\u001b[0;32mFalse\u001b[0m\u001b[0;34m,\u001b[0m\u001b[0mcmap\u001b[0m\u001b[0;34m=\u001b[0m\u001b[0;34m'viridis'\u001b[0m\u001b[0;34m)\u001b[0m\u001b[0;34m\u001b[0m\u001b[0m\n\u001b[0m\u001b[1;32m      3\u001b[0m \u001b[0max\u001b[0m\u001b[0;34m.\u001b[0m\u001b[0mvlines\u001b[0m\u001b[0;34m(\u001b[0m\u001b[0mlist\u001b[0m\u001b[0;34m(\u001b[0m\u001b[0mrange\u001b[0m\u001b[0;34m(\u001b[0m\u001b[0mlen\u001b[0m\u001b[0;34m(\u001b[0m\u001b[0mquestion2\u001b[0m\u001b[0;34m.\u001b[0m\u001b[0mcolumns\u001b[0m\u001b[0;34m)\u001b[0m\u001b[0;34m)\u001b[0m\u001b[0;34m)\u001b[0m\u001b[0;34m,\u001b[0m \u001b[0;34m*\u001b[0m\u001b[0max\u001b[0m\u001b[0;34m.\u001b[0m\u001b[0mget_ylim\u001b[0m\u001b[0;34m(\u001b[0m\u001b[0;34m)\u001b[0m\u001b[0;34m)\u001b[0m\u001b[0;34m\u001b[0m\u001b[0m\n\u001b[1;32m      4\u001b[0m \u001b[0;34m\u001b[0m\u001b[0m\n\u001b[1;32m      5\u001b[0m \u001b[0;31m#Create legend\u001b[0m\u001b[0;34m\u001b[0m\u001b[0;34m\u001b[0m\u001b[0m\n",
      "\u001b[0;31mNameError\u001b[0m: name 'question2' is not defined"
     ]
    },
    {
     "data": {
      "image/png": "[encoded data removed]",
      "text/plain": [
       "<Figure size 720x720 with 1 Axes>"
      ]
     },
     "metadata": {
      "needs_background": "light"
     },
     "output_type": "display_data"
    }
   ],
   "source": [
    "fig, ax = plt.subplots( nrows=1, ncols=1,figsize=(10,10) )\n",
    "ax = sns.heatmap(question2.isnull(),cbar=False,cmap='viridis')\n",
    "ax.vlines(list(range(len(question2.columns))), *ax.get_ylim())\n",
    "\n",
    "#Create legend\n",
    "values = np.unique(['Not Missing',\"Missing\"])\n",
    "colors = [(0.267004, 0.004874, 0.329415, 1.0),(0.993248, 0.906157, 0.143936, 1.0)]\n",
    "patches = [ mpatches.Patch(color=colors[0], label=\"Not Missing\" ),\n",
    "           mpatches.Patch(color=colors[1], label=\"Missing\")]\n",
    "ax.legend(handles=patches, bbox_to_anchor=(1.05, 1), loc=2, borderaxespad=0.,prop={'size': 20} )\n",
    "ax.set(xlabel= 'Variables',ylabel='Rows')\n",
    "ax.xaxis.label.set_fontsize(20)\n",
    "ax.yaxis.label.set_fontsize(20)\n",
    "\n",
    "#fig.savefig(\"figures/missing_data_heatmap.png\", bbox_inches='tight')"
   ]
  },
  {
   "cell_type": "markdown",
   "metadata": {},
   "source": [
    "### Get balanced dataset"
   ]
  },
  {
   "cell_type": "code",
   "execution_count": 29,
   "metadata": {},
   "outputs": [
    {
     "data": {
      "text/plain": [
       "4360"
      ]
     },
     "execution_count": 29,
     "metadata": {},
     "output_type": "execute_result"
    }
   ],
   "source": [
    "closed = question2_1[question2_1['is_open']==0]\n",
    "opened = question2_1[question2_1['is_open']==1].sample(2180,random_state=100)\n",
    "question2_1 = pd.concat([closed,opened])\n",
    "len(question2_1)"
   ]
  },
  {
   "cell_type": "markdown",
   "metadata": {},
   "source": [
    "2180 closed resturants and 4968 open resturants. We select all 2180 closed resturants and randomly sample 2180 resturants from the open resturants"
   ]
  },
  {
   "cell_type": "markdown",
   "metadata": {},
   "source": [
    "# Exploration"
   ]
  },
  {
   "cell_type": "markdown",
   "metadata": {},
   "source": [
    "#### Latitude and longitude"
   ]
  },
  {
   "cell_type": "code",
   "execution_count": 76,
   "metadata": {},
   "outputs": [
    {
     "data": {
      "image/png": "[encoded data removed]",
      "text/plain": [
       "<Figure size 576x576 with 1 Axes>"
      ]
     },
     "metadata": {
      "needs_background": "light"
     },
     "output_type": "display_data"
    }
   ],
   "source": [
    "fig = plt.figure(figsize=(8,8))\n",
    "sns.scatterplot(question2_1['longitude'],question2_1['latitude'],hue=question2_1['is_open'])\n",
    "plt.xlabel(\"Longitude\",size=18)\n",
    "plt.ylabel('Latitude',size=18)\n",
    "plt.legend(prop={'size': 16})\n",
    "filename = \"q2_exploration_latlong.eps\"\n",
    "plt.savefig(figure_path.format(filename),format='eps',dpi=1000)"
   ]
  },
  {
   "cell_type": "markdown",
   "metadata": {},
   "source": [
    "There seems to be a cluster of open resturants at latitude = 43.65 and Longitude = -79.4. There also seems to be no obvious locations where there are more closed resturants."
   ]
  },
  {
   "cell_type": "markdown",
   "metadata": {},
   "source": [
    "### Category indicator variables"
   ]
  },
  {
   "cell_type": "code",
   "execution_count": 89,
   "metadata": {},
   "outputs": [
    {
     "data": {
      "text/plain": [
       "array([[1970,  210],\n",
       "       [2023,  157]])"
      ]
     },
     "execution_count": 89,
     "metadata": {},
     "output_type": "execute_result"
    }
   ],
   "source": [
    "confusion_matrix(question2_1['is_open'],question2_1['Italian'])"
   ]
  },
  {
   "cell_type": "code",
   "execution_count": 95,
   "metadata": {},
   "outputs": [
    {
     "data": {
      "text/plain": [
       "array([[2060,  120],\n",
       "       [2002,  178]])"
      ]
     },
     "execution_count": 95,
     "metadata": {},
     "output_type": "execute_result"
    }
   ],
   "source": [
    "confusion_matrix(question2_1['is_open'],question2_1['Pizza'])"
   ]
  },
  {
   "cell_type": "markdown",
   "metadata": {},
   "source": [
    "Italian the confusion matrices show different distributions for Italian ( 0 more popular). We can see Itlain = 0 the resturnt is more likel to be open (2023 >1970) and when Italian = 1, the resturant is more likely to be closed (210 >157). The oposit is true fo Pizza. This was expected as Italian was more popular amongst closed resturants and Pizza more liely ampngst open. We could expct similar results for Japanese and Coffee & Tea categories."
   ]
  },
  {
   "cell_type": "markdown",
   "metadata": {},
   "source": [
    "# Stars"
   ]
  },
  {
   "cell_type": "code",
   "execution_count": 5,
   "metadata": {},
   "outputs": [
    {
     "name": "stderr",
     "output_type": "stream",
     "text": [
      "/Users/conorosully/miniconda3/lib/python3.6/site-packages/matplotlib/pyplot.py:880: MatplotlibDeprecationWarning: \n",
      "Using pyplot.axes(ax) with ax an Axes argument is deprecated. Please use pyplot.sca(ax) instead.\n",
      "  message=\"Using pyplot.axes(ax) with ax an Axes \"\n",
      "/Users/conorosully/miniconda3/lib/python3.6/site-packages/matplotlib/pyplot.py:880: MatplotlibDeprecationWarning: \n",
      "Using pyplot.axes(ax) with ax an Axes argument is deprecated. Please use pyplot.sca(ax) instead.\n",
      "  message=\"Using pyplot.axes(ax) with ax an Axes \"\n"
     ]
    },
    {
     "data": {
      "image/png": "[encoded data removed]",
      "text/plain": [
       "<Figure size 1440x720 with 2 Axes>"
      ]
     },
     "metadata": {
      "needs_background": "light"
     },
     "output_type": "display_data"
    }
   ],
   "source": [
    "fig, ax = plt.subplots( nrows=1, ncols=2,figsize=(20,10))\n",
    "\n",
    "plt.axes(ax[0])\n",
    "sns.boxplot(y=question2_1['stars'],x=question2_1['is_open'],ax=ax[0])\n",
    "plt.ylabel(\"Average Stars\",size=16)\n",
    "plt.xlabel('is_open',size=16)\n",
    "\n",
    "plt.axes(ax[1])\n",
    "sns.boxplot(y=question2_1['length'],x=question2_1['is_open'],ax=ax[1])\n",
    "plt.ylabel(\"Length\",size=16)\n",
    "plt.xlabel('is_open',size=16)\n",
    "\n",
    "filename = \"exploration_boxplots.eps\"\n",
    "plt.savefig(figure_path.format(filename),format='eps',dpi=1000)"
   ]
  },
  {
   "cell_type": "code",
   "execution_count": 6,
   "metadata": {},
   "outputs": [
    {
     "data": {
      "text/html": [
       "<div>\n",
       "<style scoped>\n",
       "    .dataframe tbody tr th:only-of-type {\n",
       "        vertical-align: middle;\n",
       "    }\n",
       "\n",
       "    .dataframe tbody tr th {\n",
       "        vertical-align: top;\n",
       "    }\n",
       "\n",
       "    .dataframe thead th {\n",
       "        text-align: right;\n",
       "    }\n",
       "</style>\n",
       "<table border=\"1\" class=\"dataframe\">\n",
       "  <thead>\n",
       "    <tr style=\"text-align: right;\">\n",
       "      <th></th>\n",
       "      <th>Star</th>\n",
       "      <th>is_open</th>\n",
       "      <th>mean</th>\n",
       "    </tr>\n",
       "  </thead>\n",
       "  <tbody>\n",
       "    <tr>\n",
       "      <th>0</th>\n",
       "      <td>1 Star</td>\n",
       "      <td>0</td>\n",
       "      <td>2.57</td>\n",
       "    </tr>\n",
       "    <tr>\n",
       "      <th>1</th>\n",
       "      <td>1 Star</td>\n",
       "      <td>1</td>\n",
       "      <td>4.62</td>\n",
       "    </tr>\n",
       "    <tr>\n",
       "      <th>2</th>\n",
       "      <td>2 Star</td>\n",
       "      <td>0</td>\n",
       "      <td>3.00</td>\n",
       "    </tr>\n",
       "    <tr>\n",
       "      <th>3</th>\n",
       "      <td>2 Star</td>\n",
       "      <td>1</td>\n",
       "      <td>5.21</td>\n",
       "    </tr>\n",
       "    <tr>\n",
       "      <th>4</th>\n",
       "      <td>3 Star</td>\n",
       "      <td>0</td>\n",
       "      <td>4.54</td>\n",
       "    </tr>\n",
       "    <tr>\n",
       "      <th>5</th>\n",
       "      <td>3 Star</td>\n",
       "      <td>1</td>\n",
       "      <td>9.48</td>\n",
       "    </tr>\n",
       "    <tr>\n",
       "      <th>6</th>\n",
       "      <td>4 Star</td>\n",
       "      <td>0</td>\n",
       "      <td>7.26</td>\n",
       "    </tr>\n",
       "    <tr>\n",
       "      <th>7</th>\n",
       "      <td>4 Star</td>\n",
       "      <td>1</td>\n",
       "      <td>16.96</td>\n",
       "    </tr>\n",
       "    <tr>\n",
       "      <th>8</th>\n",
       "      <td>5 Star</td>\n",
       "      <td>0</td>\n",
       "      <td>5.24</td>\n",
       "    </tr>\n",
       "    <tr>\n",
       "      <th>9</th>\n",
       "      <td>5 Star</td>\n",
       "      <td>1</td>\n",
       "      <td>14.78</td>\n",
       "    </tr>\n",
       "    <tr>\n",
       "      <th>10</th>\n",
       "      <td>No. Reviews</td>\n",
       "      <td>0</td>\n",
       "      <td>22.60</td>\n",
       "    </tr>\n",
       "    <tr>\n",
       "      <th>11</th>\n",
       "      <td>No. Reviews</td>\n",
       "      <td>1</td>\n",
       "      <td>51.04</td>\n",
       "    </tr>\n",
       "  </tbody>\n",
       "</table>\n",
       "</div>"
      ],
      "text/plain": [
       "           Star  is_open   mean\n",
       "0        1 Star        0   2.57\n",
       "1        1 Star        1   4.62\n",
       "2        2 Star        0   3.00\n",
       "3        2 Star        1   5.21\n",
       "4        3 Star        0   4.54\n",
       "5        3 Star        1   9.48\n",
       "6        4 Star        0   7.26\n",
       "7        4 Star        1  16.96\n",
       "8        5 Star        0   5.24\n",
       "9        5 Star        1  14.78\n",
       "10  No. Reviews        0  22.60\n",
       "11  No. Reviews        1  51.04"
      ]
     },
     "execution_count": 6,
     "metadata": {},
     "output_type": "execute_result"
    }
   ],
   "source": [
    "bar_plot_data = pd.DataFrame(columns=[\"Star\",\"is_open\",\"mean\"])\n",
    "\n",
    "star = []\n",
    "is_open = []\n",
    "mean_count = []\n",
    "for i,s in enumerate(['stars_1','stars_2', 'stars_3', 'stars_4', 'stars_5']):\n",
    "    star.append(\"{} Star\".format(i+1))\n",
    "    star.append(\"{} Star\".format(i+1))\n",
    "    \n",
    "    is_open.append(0)\n",
    "    is_open.append(1)\n",
    "    \n",
    "    mean_count.append(round(question2_1[question2_1[\"is_open\"]==0][s].mean(),2))\n",
    "    mean_count.append(round(question2_1[question2_1[\"is_open\"]==1][s].mean(),2))\n",
    "\n",
    "star.append(\"No. Reviews\")\n",
    "star.append(\"No. Reviews\")\n",
    "    \n",
    "is_open.append(0)\n",
    "is_open.append(1)\n",
    "\n",
    "mean_count.append(round(question2_1[question2_1[\"is_open\"]==0][\"review_count\"].mean(),2))\n",
    "mean_count.append(round(question2_1[question2_1[\"is_open\"]==1][\"review_count\"].mean(),2))\n",
    "    \n",
    "\n",
    "bar_plot_data['Star'] = star\n",
    "bar_plot_data['is_open'] = is_open\n",
    "bar_plot_data['mean'] = mean_count\n",
    "\n",
    "bar_plot_data"
   ]
  },
  {
   "cell_type": "code",
   "execution_count": 7,
   "metadata": {},
   "outputs": [
    {
     "data": {
      "image/png": "[encoded data removed]",
      "text/plain": [
       "<Figure size 864x432 with 1 Axes>"
      ]
     },
     "metadata": {
      "needs_background": "light"
     },
     "output_type": "display_data"
    }
   ],
   "source": [
    "fig = plt.figure(figsize=(12,6))\n",
    "sns.barplot(x=\"Star\", y=\"mean\", hue=\"is_open\", data=bar_plot_data)\n",
    "plt.ylabel(\"Mean Count\",size=14)\n",
    "plt.xlabel('',size=14)\n",
    "filename = \"exploration_barplot.eps\"\n",
    "plt.savefig(figure_path.format(filename),format='eps',dpi=1000)"
   ]
  },
  {
   "cell_type": "markdown",
   "metadata": {},
   "source": [
    "THe individual star counts may provide more infomation that the averge star rating. Figure X show that distribution of counts appear to be differnet for open and closed resturnts. However, this appears to be simply becasue the total number of reviews for open resturats is on aveage greater than for closed resturants. If you look closely all these variables appear to be twice as high. In other words, the distribution is the same for all the variables. This suggest there may be significant multicorealtions between these variables and that only one of these varibales is nessary to include in the model. \n",
    "<br>\n",
    "Heatmap of pearson correlations confirms this. We can see Review_count is highly correlatied with star 2 to 5. It is not as highly correlated with star 1. None the less, to simply the model we will just use review_count as a predicition variable. Also multi-correlations amongst star values..."
   ]
  },
  {
   "cell_type": "code",
   "execution_count": 8,
   "metadata": {},
   "outputs": [
    {
     "data": {
      "image/png": "[encoded data removed]",
      "text/plain": [
       "<Figure size 800x800 with 2 Axes>"
      ]
     },
     "metadata": {},
     "output_type": "display_data"
    }
   ],
   "source": [
    "plt.figure(figsize=(10, 10), dpi= 80, facecolor='w', edgecolor='k')\n",
    "sns.set(font_scale=1.4)\n",
    "ax = plt.axes()\n",
    "data = question2_1[['stars_1','stars_2', 'stars_3', 'stars_4', 'stars_5','review_count']].corr()\n",
    "sns.heatmap(data,cmap='coolwarm',ax=ax,annot=True,fmt='.2g')\n",
    "plt.yticks(rotation=360)\n",
    "plt.tight_layout()\n",
    "filename = \"exploration_heatmap.eps\"\n",
    "plt.savefig(figure_path.format(filename),format='eps',dpi=1000)"
   ]
  },
  {
   "cell_type": "code",
   "execution_count": 57,
   "metadata": {},
   "outputs": [
    {
     "data": {
      "image/png": "[encoded data removed]",
      "text/plain": [
       "<Figure size 720x504 with 1 Axes>"
      ]
     },
     "metadata": {
      "needs_background": "light"
     },
     "output_type": "display_data"
    }
   ],
   "source": [
    "fig, ax = plt.subplots( nrows=1, ncols=1,figsize=(10,7))\n",
    "\n",
    "sns.boxplot(y=question2_1['last_year'],x=question2_1['is_open'])\n",
    "plt.ylabel(\"Last Year\",size=16)\n",
    "plt.xlabel('is_open',size=16)\n",
    "\n",
    "filename = \"lastyear_boxplot.eps\"\n",
    "plt.savefig(figure_path.format(filename),format='eps',dpi=1000)\n"
   ]
  },
  {
   "cell_type": "code",
   "execution_count": 63,
   "metadata": {},
   "outputs": [
    {
     "data": {
      "text/html": [
       "<div>\n",
       "<style scoped>\n",
       "    .dataframe tbody tr th:only-of-type {\n",
       "        vertical-align: middle;\n",
       "    }\n",
       "\n",
       "    .dataframe tbody tr th {\n",
       "        vertical-align: top;\n",
       "    }\n",
       "\n",
       "    .dataframe thead th {\n",
       "        text-align: right;\n",
       "    }\n",
       "</style>\n",
       "<table border=\"1\" class=\"dataframe\">\n",
       "  <thead>\n",
       "    <tr style=\"text-align: right;\">\n",
       "      <th></th>\n",
       "      <th>business_id</th>\n",
       "      <th>name</th>\n",
       "      <th>latitude</th>\n",
       "      <th>longitude</th>\n",
       "      <th>review_count</th>\n",
       "      <th>stars</th>\n",
       "      <th>is_open</th>\n",
       "      <th>Italian</th>\n",
       "      <th>Japanese</th>\n",
       "      <th>Pizza</th>\n",
       "      <th>Coffee &amp; Tea</th>\n",
       "      <th>stars_1</th>\n",
       "      <th>stars_2</th>\n",
       "      <th>stars_3</th>\n",
       "      <th>stars_4</th>\n",
       "      <th>stars_5</th>\n",
       "      <th>length</th>\n",
       "      <th>last_year</th>\n",
       "      <th>last_date</th>\n",
       "    </tr>\n",
       "  </thead>\n",
       "  <tbody>\n",
       "    <tr>\n",
       "      <th>0</th>\n",
       "      <td>l09JfMeQ6ynYs5MCJtrcmQ</td>\n",
       "      <td>Alize Catering</td>\n",
       "      <td>43.71140</td>\n",
       "      <td>-79.39934</td>\n",
       "      <td>12</td>\n",
       "      <td>3.0</td>\n",
       "      <td>0</td>\n",
       "      <td>1</td>\n",
       "      <td>0</td>\n",
       "      <td>0</td>\n",
       "      <td>0</td>\n",
       "      <td>2</td>\n",
       "      <td>2</td>\n",
       "      <td>4</td>\n",
       "      <td>3</td>\n",
       "      <td>1</td>\n",
       "      <td>1475.750000</td>\n",
       "      <td>2012</td>\n",
       "      <td>1334444400</td>\n",
       "    </tr>\n",
       "    <tr>\n",
       "      <th>6</th>\n",
       "      <td>1nhf9BPXOBFBkbRkpsFaxA</td>\n",
       "      <td>Mirage Grill &amp; Lounge</td>\n",
       "      <td>43.70746</td>\n",
       "      <td>-79.39429</td>\n",
       "      <td>6</td>\n",
       "      <td>2.0</td>\n",
       "      <td>0</td>\n",
       "      <td>0</td>\n",
       "      <td>0</td>\n",
       "      <td>0</td>\n",
       "      <td>1</td>\n",
       "      <td>3</td>\n",
       "      <td>1</td>\n",
       "      <td>1</td>\n",
       "      <td>1</td>\n",
       "      <td>0</td>\n",
       "      <td>1006.166667</td>\n",
       "      <td>2011</td>\n",
       "      <td>1318028400</td>\n",
       "    </tr>\n",
       "    <tr>\n",
       "      <th>14</th>\n",
       "      <td>PmDhZiyiHI6O3RJXXojJcA</td>\n",
       "      <td>Pizza Pizza</td>\n",
       "      <td>43.72484</td>\n",
       "      <td>-79.28992</td>\n",
       "      <td>4</td>\n",
       "      <td>2.0</td>\n",
       "      <td>0</td>\n",
       "      <td>0</td>\n",
       "      <td>0</td>\n",
       "      <td>1</td>\n",
       "      <td>0</td>\n",
       "      <td>3</td>\n",
       "      <td>0</td>\n",
       "      <td>0</td>\n",
       "      <td>1</td>\n",
       "      <td>0</td>\n",
       "      <td>283.250000</td>\n",
       "      <td>2016</td>\n",
       "      <td>1482796800</td>\n",
       "    </tr>\n",
       "    <tr>\n",
       "      <th>22</th>\n",
       "      <td>z-5YXiSmZchuoANnqfp1vg</td>\n",
       "      <td>Pi-Tom's Thai Cuisine</td>\n",
       "      <td>43.65681</td>\n",
       "      <td>-79.37423</td>\n",
       "      <td>13</td>\n",
       "      <td>3.5</td>\n",
       "      <td>0</td>\n",
       "      <td>0</td>\n",
       "      <td>0</td>\n",
       "      <td>0</td>\n",
       "      <td>0</td>\n",
       "      <td>1</td>\n",
       "      <td>2</td>\n",
       "      <td>2</td>\n",
       "      <td>6</td>\n",
       "      <td>2</td>\n",
       "      <td>753.538462</td>\n",
       "      <td>2013</td>\n",
       "      <td>1379286000</td>\n",
       "    </tr>\n",
       "    <tr>\n",
       "      <th>23</th>\n",
       "      <td>4-YKQyhDR2bZ26AYgZ7aFg</td>\n",
       "      <td>Royal Boonsik</td>\n",
       "      <td>43.66417</td>\n",
       "      <td>-79.41516</td>\n",
       "      <td>30</td>\n",
       "      <td>4.0</td>\n",
       "      <td>0</td>\n",
       "      <td>0</td>\n",
       "      <td>0</td>\n",
       "      <td>0</td>\n",
       "      <td>0</td>\n",
       "      <td>2</td>\n",
       "      <td>0</td>\n",
       "      <td>2</td>\n",
       "      <td>13</td>\n",
       "      <td>13</td>\n",
       "      <td>588.133333</td>\n",
       "      <td>2017</td>\n",
       "      <td>1489795200</td>\n",
       "    </tr>\n",
       "  </tbody>\n",
       "</table>\n",
       "</div>"
      ],
      "text/plain": [
       "               business_id                   name  latitude  longitude  \\\n",
       "0   l09JfMeQ6ynYs5MCJtrcmQ         Alize Catering  43.71140  -79.39934   \n",
       "6   1nhf9BPXOBFBkbRkpsFaxA  Mirage Grill & Lounge  43.70746  -79.39429   \n",
       "14  PmDhZiyiHI6O3RJXXojJcA            Pizza Pizza  43.72484  -79.28992   \n",
       "22  z-5YXiSmZchuoANnqfp1vg  Pi-Tom's Thai Cuisine  43.65681  -79.37423   \n",
       "23  4-YKQyhDR2bZ26AYgZ7aFg          Royal Boonsik  43.66417  -79.41516   \n",
       "\n",
       "    review_count  stars  is_open  Italian  Japanese  Pizza  Coffee & Tea  \\\n",
       "0             12    3.0        0        1         0      0             0   \n",
       "6              6    2.0        0        0         0      0             1   \n",
       "14             4    2.0        0        0         0      1             0   \n",
       "22            13    3.5        0        0         0      0             0   \n",
       "23            30    4.0        0        0         0      0             0   \n",
       "\n",
       "    stars_1  stars_2  stars_3  stars_4  stars_5       length  last_year  \\\n",
       "0         2        2        4        3        1  1475.750000       2012   \n",
       "6         3        1        1        1        0  1006.166667       2011   \n",
       "14        3        0        0        1        0   283.250000       2016   \n",
       "22        1        2        2        6        2   753.538462       2013   \n",
       "23        2        0        2       13       13   588.133333       2017   \n",
       "\n",
       "     last_date  \n",
       "0   1334444400  \n",
       "6   1318028400  \n",
       "14  1482796800  \n",
       "22  1379286000  \n",
       "23  1489795200  "
      ]
     },
     "execution_count": 63,
     "metadata": {},
     "output_type": "execute_result"
    }
   ],
   "source": [
    "question2_1.head()"
   ]
  },
  {
   "cell_type": "markdown",
   "metadata": {},
   "source": [
    "# Logistic regression\n",
    "<br>\n",
    "https://www.statsmodels.org/dev/generated/statsmodels.discrete.discrete_model.Logit.fit_regularized.html\n",
    "https://www.statsmodels.org/devel/generated/statsmodels.discrete.discrete_model.Logit.html"
   ]
  },
  {
   "cell_type": "code",
   "execution_count": 45,
   "metadata": {},
   "outputs": [
    {
     "data": {
      "text/plain": [
       "4360"
      ]
     },
     "execution_count": 45,
     "metadata": {},
     "output_type": "execute_result"
    }
   ],
   "source": [
    "closed = question2_1[question2_1['is_open']==0]\n",
    "opened = question2_1[question2_1['is_open']==1].sample(2180,random_state=100)\n",
    "question2_1 = pd.concat([closed,opened])\n",
    "len(question2_1)"
   ]
  },
  {
   "cell_type": "code",
   "execution_count": 30,
   "metadata": {
    "scrolled": true
   },
   "outputs": [],
   "source": [
    "def crossValid(x):\n",
    "    \n",
    "    X = question2_1[x]\n",
    "    X = sm.add_constant(X)\n",
    "    y = question2_1['is_open']\n",
    "\n",
    "    X_train, X_test, y_train, y_test = train_test_split(X, y, test_size=0.10, random_state=90)\n",
    "    \n",
    "    \n",
    "    accuracy = []\n",
    "\n",
    "    X_folds = np.array_split(X_train.values, 10)\n",
    "    y_folds = np.array_split(y_train, 10)\n",
    "\n",
    "    for i in range(10):\n",
    "        X_fold = X_folds[0:i] + X_folds[i+1:10]\n",
    "        X_fold = [y for x in X_fold for y in x]\n",
    "\n",
    "        X_hold = X_folds[i]\n",
    "\n",
    "        y_fold = y_folds[0:i] + y_folds[i+1:10]\n",
    "        y_fold = [y for x in y_fold for y in x]\n",
    "\n",
    "        y_hold = y_folds[i]\n",
    "\n",
    "        results = sm.Logit(y_fold,X_fold).fit(disp=0)\n",
    "\n",
    "        predictions = np.around(results.predict(X_hold))\n",
    "        accuracy.append(accuracy_score(y_hold,predictions))\n",
    "    return sum(accuracy)/10"
   ]
  },
  {
   "cell_type": "code",
   "execution_count": 59,
   "metadata": {},
   "outputs": [
    {
     "name": "stdout",
     "output_type": "stream",
     "text": [
      "0.671755076076232\n",
      "0.6715006231500233\n",
      "0.8621390922781327\n",
      "0.8761554240016617\n"
     ]
    }
   ],
   "source": [
    "x = ['latitude',\"longitude\",\"review_count\", 'Italian', 'Japanese', 'Pizza', 'Coffee & Tea','length']\n",
    "C = crossValid(x) \n",
    "print(C)\n",
    "\n",
    "x = ['latitude',\"longitude\",\"review_count\",'stars', 'Italian', 'Japanese', 'Pizza', 'Coffee & Tea','length']\n",
    "C = crossValid(x) \n",
    "print(C)\n",
    "\n",
    "x = ['latitude',\"longitude\",\"review_count\",'stars', 'Italian', 'Japanese', 'Pizza', 'Coffee & Tea','length','last_year']\n",
    "C = crossValid(x) \n",
    "print(C)\n",
    "\n",
    "x = [\"last_year\"]\n",
    "C = crossValid(x) \n",
    "print(C)\n"
   ]
  },
  {
   "cell_type": "code",
   "execution_count": 47,
   "metadata": {},
   "outputs": [
    {
     "name": "stdout",
     "output_type": "stream",
     "text": [
      "Optimization terminated successfully.    (Exit mode 0)\n",
      "            Current function value: 0.6088338526597717\n",
      "            Iterations: 72\n",
      "            Function evaluations: 84\n",
      "            Gradient evaluations: 72\n",
      "                           Logit Regression Results                           \n",
      "==============================================================================\n",
      "Dep. Variable:                is_open   No. Observations:                 3924\n",
      "Model:                          Logit   Df Residuals:                     3914\n",
      "Method:                           MLE   Df Model:                            9\n",
      "Date:                Tue, 09 Apr 2019   Pseudo R-squ.:                  0.1216\n",
      "Time:                        14:49:07   Log-Likelihood:                -2389.1\n",
      "converged:                       True   LL-Null:                       -2719.9\n",
      "                                        LLR p-value:                1.193e-136\n",
      "================================================================================\n",
      "                   coef    std err          z      P>|z|      [0.025      0.975]\n",
      "--------------------------------------------------------------------------------\n",
      "const         -361.2403     72.891     -4.956      0.000    -504.104    -218.376\n",
      "latitude         4.8543      0.848      5.724      0.000       3.192       6.516\n",
      "longitude       -1.8983      0.631     -3.010      0.003      -3.134      -0.662\n",
      "review_count     0.0163      0.001     14.978      0.000       0.014       0.018\n",
      "stars           -0.0453      0.048     -0.934      0.350      -0.140       0.050\n",
      "Italian         -0.3922      0.136     -2.880      0.004      -0.659      -0.125\n",
      "Japanese        -0.4362      0.143     -3.055      0.002      -0.716      -0.156\n",
      "Pizza            0.5170      0.145      3.554      0.000       0.232       0.802\n",
      "Coffee & Tea     0.0239      0.145      0.165      0.869      -0.261       0.309\n",
      "length          -0.0028      0.000    -15.868      0.000      -0.003      -0.002\n",
      "================================================================================\n",
      "0.6697247706422018\n",
      "[[141  81]\n",
      " [ 63 151]]\n",
      "              precision    recall  f1-score   support\n",
      "\n",
      "           0       0.69      0.64      0.66       222\n",
      "           1       0.65      0.71      0.68       214\n",
      "\n",
      "   micro avg       0.67      0.67      0.67       436\n",
      "   macro avg       0.67      0.67      0.67       436\n",
      "weighted avg       0.67      0.67      0.67       436\n",
      "\n"
     ]
    }
   ],
   "source": [
    "x = ['latitude',\"longitude\",\"review_count\",'stars', 'Italian', 'Japanese', 'Pizza', 'Coffee & Tea','length']\n",
    "X = question2_1[x]\n",
    "X = sm.add_constant(X)\n",
    "y = question2_1['is_open']\n",
    "\n",
    "X_train, X_test, y_train, y_test = train_test_split(X, y, test_size=0.10, random_state=90)\n",
    "\n",
    "results = sm.Logit(y_train,X_train).fit_regularized(alpha=0)\n",
    "print(results.summary())\n",
    "\n",
    "predictions = round(results.predict(X_test))\n",
    "print(accuracy_score(y_test,predictions))\n",
    "print(confusion_matrix(y_test,predictions))\n",
    "print(classification_report(y_test,predictions))"
   ]
  },
  {
   "cell_type": "code",
   "execution_count": 64,
   "metadata": {},
   "outputs": [
    {
     "name": "stdout",
     "output_type": "stream",
     "text": [
      "Optimization terminated successfully.    (Exit mode 0)\n",
      "            Current function value: 0.40474256314023194\n",
      "            Iterations: 86\n",
      "            Function evaluations: 101\n",
      "            Gradient evaluations: 86\n",
      "                           Logit Regression Results                           \n",
      "==============================================================================\n",
      "Dep. Variable:                is_open   No. Observations:                 3924\n",
      "Model:                          Logit   Df Residuals:                     3914\n",
      "Method:                           MLE   Df Model:                            9\n",
      "Date:                Tue, 09 Apr 2019   Pseudo R-squ.:                  0.4161\n",
      "Time:                        15:11:06   Log-Likelihood:                -1588.2\n",
      "converged:                       True   LL-Null:                       -2719.9\n",
      "                                        LLR p-value:                     0.000\n",
      "================================================================================\n",
      "                   coef    std err          z      P>|z|      [0.025      0.975]\n",
      "--------------------------------------------------------------------------------\n",
      "const        -3124.7505    143.833    -21.725      0.000   -3406.659   -2842.842\n",
      "latitude         1.6488      1.052      1.567      0.117      -0.414       3.711\n",
      "longitude       -0.8720      0.786     -1.109      0.267      -2.412       0.668\n",
      "review_count     0.0030      0.001      3.469      0.001       0.001       0.005\n",
      "Italian         -0.4132      0.173     -2.391      0.017      -0.752      -0.074\n",
      "Japanese        -0.4114      0.174     -2.367      0.018      -0.752      -0.071\n",
      "Pizza            0.3596      0.186      1.931      0.053      -0.005       0.725\n",
      "Coffee & Tea    -0.2182      0.176     -1.241      0.215      -0.563       0.127\n",
      "length          -0.0012      0.000     -5.249      0.000      -0.002      -0.001\n",
      "last_year        1.4802      0.056     26.446      0.000       1.370       1.590\n",
      "================================================================================\n",
      "0.8876146788990825\n",
      "[[187  35]\n",
      " [ 14 200]]\n",
      "              precision    recall  f1-score   support\n",
      "\n",
      "           0       0.93      0.84      0.88       222\n",
      "           1       0.85      0.93      0.89       214\n",
      "\n",
      "   micro avg       0.89      0.89      0.89       436\n",
      "   macro avg       0.89      0.89      0.89       436\n",
      "weighted avg       0.89      0.89      0.89       436\n",
      "\n"
     ]
    }
   ],
   "source": [
    "x = ['latitude',\"longitude\",\"review_count\", 'Italian', 'Japanese', 'Pizza', 'Coffee & Tea','length','last_year']\n",
    "X = question2_1[x]\n",
    "X = sm.add_constant(X)\n",
    "y = question2_1['is_open']\n",
    "\n",
    "X_train, X_test, y_train, y_test = train_test_split(X, y, test_size=0.10, random_state=90)\n",
    "\n",
    "results = sm.Logit(y_train,X_train).fit_regularized(alpha=0)\n",
    "summary = results.summary()\n",
    "print(summary)\n",
    "\n",
    "predictions = round(results.predict(X_test))\n",
    "print(accuracy_score(y_test,predictions))\n",
    "print(confusion_matrix(y_test,predictions))\n",
    "print(classification_report(y_test,predictions))"
   ]
  },
  {
   "cell_type": "code",
   "execution_count": 69,
   "metadata": {},
   "outputs": [
    {
     "data": {
      "text/html": [
       "<table class=\"simpletable\">\n",
       "<tr>\n",
       "        <td></td>          <th>coef</th>     <th>std err</th>      <th>z</th>      <th>P>|z|</th>  <th>[0.025</th>    <th>0.975]</th>  \n",
       "</tr>\n",
       "<tr>\n",
       "  <th>const</th>        <td>-3124.7505</td> <td>  143.833</td> <td>  -21.725</td> <td> 0.000</td> <td>-3406.659</td> <td>-2842.842</td>\n",
       "</tr>\n",
       "<tr>\n",
       "  <th>latitude</th>     <td>    1.6488</td> <td>    1.052</td> <td>    1.567</td> <td> 0.117</td> <td>   -0.414</td> <td>    3.711</td>\n",
       "</tr>\n",
       "<tr>\n",
       "  <th>longitude</th>    <td>   -0.8720</td> <td>    0.786</td> <td>   -1.109</td> <td> 0.267</td> <td>   -2.412</td> <td>    0.668</td>\n",
       "</tr>\n",
       "<tr>\n",
       "  <th>review_count</th> <td>    0.0030</td> <td>    0.001</td> <td>    3.469</td> <td> 0.001</td> <td>    0.001</td> <td>    0.005</td>\n",
       "</tr>\n",
       "<tr>\n",
       "  <th>Italian</th>      <td>   -0.4132</td> <td>    0.173</td> <td>   -2.391</td> <td> 0.017</td> <td>   -0.752</td> <td>   -0.074</td>\n",
       "</tr>\n",
       "<tr>\n",
       "  <th>Japanese</th>     <td>   -0.4114</td> <td>    0.174</td> <td>   -2.367</td> <td> 0.018</td> <td>   -0.752</td> <td>   -0.071</td>\n",
       "</tr>\n",
       "<tr>\n",
       "  <th>Pizza</th>        <td>    0.3596</td> <td>    0.186</td> <td>    1.931</td> <td> 0.053</td> <td>   -0.005</td> <td>    0.725</td>\n",
       "</tr>\n",
       "<tr>\n",
       "  <th>Coffee & Tea</th> <td>   -0.2182</td> <td>    0.176</td> <td>   -1.241</td> <td> 0.215</td> <td>   -0.563</td> <td>    0.127</td>\n",
       "</tr>\n",
       "<tr>\n",
       "  <th>length</th>       <td>   -0.0012</td> <td>    0.000</td> <td>   -5.249</td> <td> 0.000</td> <td>   -0.002</td> <td>   -0.001</td>\n",
       "</tr>\n",
       "<tr>\n",
       "  <th>last_year</th>    <td>    1.4802</td> <td>    0.056</td> <td>   26.446</td> <td> 0.000</td> <td>    1.370</td> <td>    1.590</td>\n",
       "</tr>\n",
       "</table>"
      ],
      "text/plain": [
       "<class 'statsmodels.iolib.table.SimpleTable'>"
      ]
     },
     "execution_count": 69,
     "metadata": {},
     "output_type": "execute_result"
    }
   ],
   "source": []
  },
  {
   "cell_type": "code",
   "execution_count": 74,
   "metadata": {},
   "outputs": [
    {
     "name": "stdout",
     "output_type": "stream",
     "text": [
      "            ,   coef   , std err ,    z    ,P>|z| ,  [0.025 ,  0.975] \n",
      "const       ,-3124.7505,  143.833,  -21.725, 0.000,-3406.659,-2842.842\n",
      "latitude    ,    1.6488,    1.052,    1.567, 0.117,   -0.414,    3.711\n",
      "longitude   ,   -0.8720,    0.786,   -1.109, 0.267,   -2.412,    0.668\n",
      "review_count,    0.0030,    0.001,    3.469, 0.001,    0.001,    0.005\n",
      "Italian     ,   -0.4132,    0.173,   -2.391, 0.017,   -0.752,   -0.074\n",
      "Japanese    ,   -0.4114,    0.174,   -2.367, 0.018,   -0.752,   -0.071\n",
      "Pizza       ,    0.3596,    0.186,    1.931, 0.053,   -0.005,    0.725\n",
      "Coffee & Tea,   -0.2182,    0.176,   -1.241, 0.215,   -0.563,    0.127\n",
      "length      ,   -0.0012,    0.000,   -5.249, 0.000,   -0.002,   -0.001\n",
      "last_year   ,    1.4802,    0.056,   26.446, 0.000,    1.370,    1.590\n"
     ]
    }
   ],
   "source": [
    "filename = \"logistic_regression.eps\"\n",
    "print(summary.tables[1].as_csv())"
   ]
  },
  {
   "cell_type": "markdown",
   "metadata": {},
   "source": [
    "If we try to add last_year or last_date to this model we get 'LinAlgError: Singular matrix'. The reason for this is unclear but it is potential because these very are very correlated to the target variable. In other words, the data can be perfectly sperated by these variables. With just one variable 'last_year' we can obtain a model with 87% accuracy. if we try to produce a model with last_date we get the same error as before"
   ]
  },
  {
   "cell_type": "code",
   "execution_count": 62,
   "metadata": {},
   "outputs": [
    {
     "name": "stdout",
     "output_type": "stream",
     "text": [
      "0.8990825688073395\n",
      "[[198  24]\n",
      " [ 20 194]]\n",
      "              precision    recall  f1-score   support\n",
      "\n",
      "           0       0.91      0.89      0.90       222\n",
      "           1       0.89      0.91      0.90       214\n",
      "\n",
      "   micro avg       0.90      0.90      0.90       436\n",
      "   macro avg       0.90      0.90      0.90       436\n",
      "weighted avg       0.90      0.90      0.90       436\n",
      "\n"
     ]
    }
   ],
   "source": [
    "predictions = [0 if x <2017 else 1 for x in X_test['last_year']]\n",
    "\n",
    "print(accuracy_score(y_test,predictions))\n",
    "print(confusion_matrix(y_test,predictions))\n",
    "print(classification_report(y_test,predictions))"
   ]
  },
  {
   "cell_type": "markdown",
   "metadata": {},
   "source": [
    "If we use the simple heuristic of x<2017 we obtain an accuracy of 0.89"
   ]
  },
  {
   "cell_type": "markdown",
   "metadata": {},
   "source": [
    "# SVM"
   ]
  },
  {
   "cell_type": "code",
   "execution_count": 7,
   "metadata": {},
   "outputs": [
    {
     "name": "stderr",
     "output_type": "stream",
     "text": [
      "/Users/conorosully/miniconda3/lib/python3.6/site-packages/sklearn/svm/base.py:196: FutureWarning: The default value of gamma will change from 'auto' to 'scale' in version 0.22 to account better for unscaled features. Set gamma explicitly to 'auto' or 'scale' to avoid this warning.\n",
      "  \"avoid this warning.\", FutureWarning)\n"
     ]
    },
    {
     "data": {
      "text/plain": [
       "SVC(C=1.0, cache_size=200, class_weight=None, coef0=0.0,\n",
       "  decision_function_shape='ovr', degree=3, gamma='auto_deprecated',\n",
       "  kernel='rbf', max_iter=-1, probability=False, random_state=None,\n",
       "  shrinking=True, tol=0.001, verbose=False)"
      ]
     },
     "execution_count": 7,
     "metadata": {},
     "output_type": "execute_result"
    }
   ],
   "source": [
    "X = question2[['latitude',\"longitude\",\"review_count\",\"stars\"]]\n",
    "y = question2['is_open']\n",
    "\n",
    "X_train, X_test, y_train, y_test = train_test_split(X, y, test_size=0.10, random_state=90)\n",
    "model = SVC()\n",
    "model.fit(X_train,y_train)"
   ]
  },
  {
   "cell_type": "code",
   "execution_count": 8,
   "metadata": {},
   "outputs": [
    {
     "name": "stdout",
     "output_type": "stream",
     "text": [
      "0.6825174825174826\n",
      "[[  0 227]\n",
      " [  0 488]]\n",
      "              precision    recall  f1-score   support\n",
      "\n",
      "           0       0.00      0.00      0.00       227\n",
      "           1       0.68      1.00      0.81       488\n",
      "\n",
      "   micro avg       0.68      0.68      0.68       715\n",
      "   macro avg       0.34      0.50      0.41       715\n",
      "weighted avg       0.47      0.68      0.55       715\n",
      "\n"
     ]
    },
    {
     "name": "stderr",
     "output_type": "stream",
     "text": [
      "/Users/conorosully/miniconda3/lib/python3.6/site-packages/sklearn/metrics/classification.py:1143: UndefinedMetricWarning: Precision and F-score are ill-defined and being set to 0.0 in labels with no predicted samples.\n",
      "  'precision', 'predicted', average, warn_for)\n",
      "/Users/conorosully/miniconda3/lib/python3.6/site-packages/sklearn/metrics/classification.py:1143: UndefinedMetricWarning: Precision and F-score are ill-defined and being set to 0.0 in labels with no predicted samples.\n",
      "  'precision', 'predicted', average, warn_for)\n",
      "/Users/conorosully/miniconda3/lib/python3.6/site-packages/sklearn/metrics/classification.py:1143: UndefinedMetricWarning: Precision and F-score are ill-defined and being set to 0.0 in labels with no predicted samples.\n",
      "  'precision', 'predicted', average, warn_for)\n"
     ]
    }
   ],
   "source": [
    "predictions = model.predict(X_test)\n",
    "print(accuracy_score(y_test,predictions))\n",
    "print(confusion_matrix(y_test,predictions))\n",
    "print(classification_report(y_test,predictions))"
   ]
  }
 ],
 "metadata": {
  "kernelspec": {
   "display_name": "Python 3",
   "language": "python",
   "name": "python3"
  },
  "language_info": {
   "codemirror_mode": {
    "name": "ipython",
    "version": 3
   },
   "file_extension": ".py",
   "mimetype": "text/x-python",
   "name": "python",
   "nbconvert_exporter": "python",
   "pygments_lexer": "ipython3",
   "version": "3.6.8"
  }
 },
 "nbformat": 4,
 "nbformat_minor": 2
}
