{
 "cells": [
  {
   "cell_type": "markdown",
   "metadata": {},
   "source": [
    "## Initial data preparation"
   ]
  },
  {
   "cell_type": "code",
   "execution_count": 2,
   "metadata": {},
   "outputs": [],
   "source": [
    "#imports\n",
    "import numpy as np\n",
    "import pandas as pd\n",
    "from pandas.io.json import json_normalize\n",
    "import json\n",
    "\n",
    "import pprint\n",
    "pp = pprint.PrettyPrinter()"
   ]
  },
  {
   "cell_type": "markdown",
   "metadata": {},
   "source": [
    "# Business"
   ]
  },
  {
   "cell_type": "code",
   "execution_count": 37,
   "metadata": {},
   "outputs": [],
   "source": [
    "business = [] #List of businesses in JSON format\n",
    "\n",
    "filepath = \"data/Business_Toronto_Restaurant.json\"\n",
    "with open(filepath) as fp:  \n",
    "    line = fp.readline()\n",
    "    while line:\n",
    "        business.append(json.loads(line))\n",
    "        line = fp.readline()"
   ]
  },
  {
   "cell_type": "code",
   "execution_count": 38,
   "metadata": {},
   "outputs": [
    {
     "name": "stdout",
     "output_type": "stream",
     "text": [
      "7148\n",
      "{'address': '8 Glen Watford Drive',\n",
      " 'attributes': {'Ambience': {},\n",
      "                'BestNights': {},\n",
      "                'BusinessAcceptsCreditCards': False,\n",
      "                'BusinessParking': {},\n",
      "                'DietaryRestrictions': {},\n",
      "                'GoodForKids': True,\n",
      "                'GoodForMeal': {},\n",
      "                'HairSpecializesIn': {},\n",
      "                'Music': {},\n",
      "                'RestaurantsReservations': False,\n",
      "                'RestaurantsTakeOut': True},\n",
      " 'business_id': 'dTWfATVrBfKj7Vdn0qWVWg',\n",
      " 'categories': ['Restaurants', 'Chinese', 'Food Court'],\n",
      " 'city': 'Toronto',\n",
      " 'hours': {'Friday': '11:00-21:00',\n",
      "           'Monday': '11:00-21:00',\n",
      "           'Saturday': '11:00-21:00',\n",
      "           'Sunday': '11:00-21:00',\n",
      "           'Thursday': '11:00-21:00',\n",
      "           'Wednesday': '11:00-21:00'},\n",
      " 'is_open': 1,\n",
      " 'latitude': 43.78706,\n",
      " 'longitude': -79.27617,\n",
      " 'name': 'Flavor Cuisine',\n",
      " 'neighborhood': 'Scarborough',\n",
      " 'postal_code': 'M1S 2C1',\n",
      " 'review_count': 6,\n",
      " 'stars': 3,\n",
      " 'state': 'ON'}\n"
     ]
    }
   ],
   "source": [
    "print(len(business))\n",
    "pp.pprint(business[5])"
   ]
  },
  {
   "cell_type": "code",
   "execution_count": 39,
   "metadata": {},
   "outputs": [],
   "source": [
    "business_df = json_normalize(business)\n",
    "columns = []\n",
    "for c in business_df.columns:\n",
    "    columns.append(\"\".join(c.split('attributes.')))\n",
    "business_df.columns = columns"
   ]
  },
  {
   "cell_type": "code",
   "execution_count": null,
   "metadata": {},
   "outputs": [],
   "source": [
    "pd.set_option('display.max_columns', 500)\n",
    "print(len(business_df))\n",
    "print(list(business_df.columns))\n",
    "business_df.to_csv(\"data/business.csv\",index=False)\n",
    "business_df.head()"
   ]
  },
  {
   "cell_type": "markdown",
   "metadata": {},
   "source": [
    "Dataset consists of information on 7148 restaurants in Toronto, Canada. The consists of a list of JSON objects. Each JSON object contains information such as the resuraunts name, whether the resturant is currently open and the resturants stars. A resturant stars is a value between 0 and 5. Before the data can be used it is necessary to transfor it <br><br>\n",
    "\n",
    "There are also 155300 reviews these contain. This data set contained individual star ratings and text reviews. They can be linked to the business through the business ID. "
   ]
  },
  {
   "cell_type": "markdown",
   "metadata": {},
   "source": [
    "[Snap shot] <br>\n",
    "Used the pandas.io.json import json_normalize function to transform the json data into a pandas dataframe. A pandas dataframe is a commpn data structure used in pyhton. It is similar to a sql database or csv table. Each row represents a resturant and the columns are the characteristics of that resurant. Subsequent preparation of this data base is required to answer the 3 questions. The columns of the dataset represented each of the attributes from the JSON data. "
   ]
  },
  {
   "cell_type": "markdown",
   "metadata": {},
   "source": [
    "# Old Reviews"
   ]
  },
  {
   "cell_type": "code",
   "execution_count": 31,
   "metadata": {},
   "outputs": [],
   "source": [
    "reviews_old = [] #List of Reviews in JSON format\n",
    "\n",
    "filepath = \"data/Review_Toronto_Restaurant.json\"\n",
    "with open(filepath) as fp:  \n",
    "    line = fp.readline()\n",
    "    while line:\n",
    "        reviews_old.append(json.loads(line))\n",
    "        line = fp.readline()"
   ]
  },
  {
   "cell_type": "code",
   "execution_count": 32,
   "metadata": {},
   "outputs": [
    {
     "name": "stdout",
     "output_type": "stream",
     "text": [
      "155300\n",
      "{'business_id': 'Aov96CM4FZAXeZvKtsStdA',\n",
      " 'cool': 1,\n",
      " 'date': '2010-07-16',\n",
      " 'funny': 0,\n",
      " 'review_id': '23eqwlZzCWZkADWfd9atZw',\n",
      " 'stars': 5,\n",
      " 'text': 'This place is awesome! Definitely authentic!!!\\n'\n",
      "         '\\n'\n",
      "         'My two favourite dishes are the rice flour rolls and the chicken '\n",
      "         \"pho. The rice flour rolls are always fresh whenever I'm there! And \"\n",
      "         'the chicken pho is always flavourful!! mmmm....just thinking of it '\n",
      "         'makes me want some!\\n'\n",
      "         '\\n'\n",
      "         'My boyfriend is Vietnamese and he agrees that this place is '\n",
      "         'authentic and one of the best Vietnamese restaurants he has ever '\n",
      "         'eaten at.\\n'\n",
      "         '\\n'\n",
      "         'Prices are very reasonable too!',\n",
      " 'useful': 2,\n",
      " 'user_id': 'u0LXt3Uea_GidxRW1xcsfg'}\n"
     ]
    }
   ],
   "source": [
    "print(len(reviews_old))\n",
    "pp.pprint(reviews_old[5])"
   ]
  },
  {
   "cell_type": "code",
   "execution_count": 34,
   "metadata": {},
   "outputs": [],
   "source": [
    "reviews_old_df = json_normalize(reviews_old)"
   ]
  },
  {
   "cell_type": "code",
   "execution_count": 36,
   "metadata": {},
   "outputs": [
    {
     "data": {
      "text/plain": [
       "7051"
      ]
     },
     "execution_count": 36,
     "metadata": {},
     "output_type": "execute_result"
    }
   ],
   "source": [
    "reviews_old_df['business_id'].nunique()"
   ]
  },
  {
   "cell_type": "code",
   "execution_count": 42,
   "metadata": {},
   "outputs": [
    {
     "name": "stdout",
     "output_type": "stream",
     "text": [
      "303757 155300\n"
     ]
    }
   ],
   "source": [
    "\n",
    "print(sum(business_df['review_count']),len(reviews_old_df))"
   ]
  },
  {
   "cell_type": "markdown",
   "metadata": {},
   "source": [
    "There appears to be some missing reviews in \"Review_Toronto_Restaurant.json\" There are 7148 resturant and therefore 7148 unique resturant IDs in the business dataset. However, if we count the unique IDs in the json file we only get 7051. In other words, reviews for 97 resturants are missing. \n",
    "<br>\n",
    "Furthermore, if we sum the review_count column of the business dataset we get the total number of 303757. This is total number of individual reviews for resturants in Toronto. There should therefore be the same number of idividual reviews in the JSON file. However, there are only 155300 individual reviews. This suggests that nearly half of the reivews are missing. "
   ]
  },
  {
   "cell_type": "code",
   "execution_count": 35,
   "metadata": {},
   "outputs": [
    {
     "name": "stdout",
     "output_type": "stream",
     "text": [
      "155300\n"
     ]
    },
    {
     "data": {
      "text/html": [
       "<div>\n",
       "<style scoped>\n",
       "    .dataframe tbody tr th:only-of-type {\n",
       "        vertical-align: middle;\n",
       "    }\n",
       "\n",
       "    .dataframe tbody tr th {\n",
       "        vertical-align: top;\n",
       "    }\n",
       "\n",
       "    .dataframe thead th {\n",
       "        text-align: right;\n",
       "    }\n",
       "</style>\n",
       "<table border=\"1\" class=\"dataframe\">\n",
       "  <thead>\n",
       "    <tr style=\"text-align: right;\">\n",
       "      <th></th>\n",
       "      <th>business_id</th>\n",
       "      <th>cool</th>\n",
       "      <th>date</th>\n",
       "      <th>funny</th>\n",
       "      <th>review_id</th>\n",
       "      <th>stars</th>\n",
       "      <th>text</th>\n",
       "      <th>useful</th>\n",
       "      <th>user_id</th>\n",
       "    </tr>\n",
       "  </thead>\n",
       "  <tbody>\n",
       "    <tr>\n",
       "      <th>0</th>\n",
       "      <td>9_CGhHMz8698M9-PkVf0CQ</td>\n",
       "      <td>2</td>\n",
       "      <td>2012-05-11</td>\n",
       "      <td>0</td>\n",
       "      <td>ymAUG8DZfQcFTBSOiaNN4w</td>\n",
       "      <td>4</td>\n",
       "      <td>Who would have guess that you would be able to...</td>\n",
       "      <td>0</td>\n",
       "      <td>u0LXt3Uea_GidxRW1xcsfg</td>\n",
       "    </tr>\n",
       "    <tr>\n",
       "      <th>1</th>\n",
       "      <td>5r6-G9C4YLbC7Ziz57l3rQ</td>\n",
       "      <td>0</td>\n",
       "      <td>2013-02-09</td>\n",
       "      <td>0</td>\n",
       "      <td>w41ZS9shepfO3uEyhXEWuQ</td>\n",
       "      <td>3</td>\n",
       "      <td>Not bad!! Love that there is a gluten-free, ve...</td>\n",
       "      <td>1</td>\n",
       "      <td>u0LXt3Uea_GidxRW1xcsfg</td>\n",
       "    </tr>\n",
       "    <tr>\n",
       "      <th>2</th>\n",
       "      <td>z8oIoCT1cXz7gZP5GeU5OA</td>\n",
       "      <td>0</td>\n",
       "      <td>2013-05-01</td>\n",
       "      <td>0</td>\n",
       "      <td>PIsUSmvaUWB00qv5KTF1xA</td>\n",
       "      <td>4</td>\n",
       "      <td>This is currently my parents new favourite res...</td>\n",
       "      <td>1</td>\n",
       "      <td>u0LXt3Uea_GidxRW1xcsfg</td>\n",
       "    </tr>\n",
       "    <tr>\n",
       "      <th>3</th>\n",
       "      <td>XWTPNfskXoUL-Lf32wSk0Q</td>\n",
       "      <td>1</td>\n",
       "      <td>2011-09-28</td>\n",
       "      <td>0</td>\n",
       "      <td>PdZ_uFjbbkjtm3SCY_KrZw</td>\n",
       "      <td>3</td>\n",
       "      <td>Server was a little rude.\\n\\nOrdered the calam...</td>\n",
       "      <td>5</td>\n",
       "      <td>u0LXt3Uea_GidxRW1xcsfg</td>\n",
       "    </tr>\n",
       "    <tr>\n",
       "      <th>4</th>\n",
       "      <td>RtUvSWO_UZ8V3Wpj0n077w</td>\n",
       "      <td>1</td>\n",
       "      <td>2012-12-03</td>\n",
       "      <td>1</td>\n",
       "      <td>lsoSqIrrDbQvWpMvsSj2xw</td>\n",
       "      <td>3</td>\n",
       "      <td>Wanted to check out this place due to all the ...</td>\n",
       "      <td>2</td>\n",
       "      <td>u0LXt3Uea_GidxRW1xcsfg</td>\n",
       "    </tr>\n",
       "  </tbody>\n",
       "</table>\n",
       "</div>"
      ],
      "text/plain": [
       "              business_id  cool        date  funny               review_id  \\\n",
       "0  9_CGhHMz8698M9-PkVf0CQ     2  2012-05-11      0  ymAUG8DZfQcFTBSOiaNN4w   \n",
       "1  5r6-G9C4YLbC7Ziz57l3rQ     0  2013-02-09      0  w41ZS9shepfO3uEyhXEWuQ   \n",
       "2  z8oIoCT1cXz7gZP5GeU5OA     0  2013-05-01      0  PIsUSmvaUWB00qv5KTF1xA   \n",
       "3  XWTPNfskXoUL-Lf32wSk0Q     1  2011-09-28      0  PdZ_uFjbbkjtm3SCY_KrZw   \n",
       "4  RtUvSWO_UZ8V3Wpj0n077w     1  2012-12-03      1  lsoSqIrrDbQvWpMvsSj2xw   \n",
       "\n",
       "   stars                                               text  useful  \\\n",
       "0      4  Who would have guess that you would be able to...       0   \n",
       "1      3  Not bad!! Love that there is a gluten-free, ve...       1   \n",
       "2      4  This is currently my parents new favourite res...       1   \n",
       "3      3  Server was a little rude.\\n\\nOrdered the calam...       5   \n",
       "4      3  Wanted to check out this place due to all the ...       2   \n",
       "\n",
       "                  user_id  \n",
       "0  u0LXt3Uea_GidxRW1xcsfg  \n",
       "1  u0LXt3Uea_GidxRW1xcsfg  \n",
       "2  u0LXt3Uea_GidxRW1xcsfg  \n",
       "3  u0LXt3Uea_GidxRW1xcsfg  \n",
       "4  u0LXt3Uea_GidxRW1xcsfg  "
      ]
     },
     "execution_count": 35,
     "metadata": {},
     "output_type": "execute_result"
    }
   ],
   "source": [
    "print(len(reviews_old_df))\n",
    "reviews_old_df.head()"
   ]
  },
  {
   "cell_type": "markdown",
   "metadata": {},
   "source": [
    "Talk about this one first + give screen shot to illustrate how data was transformed. The reviews dataset was read in and transformed to a csv file using the json_normalize function. "
   ]
  },
  {
   "cell_type": "markdown",
   "metadata": {},
   "source": [
    "# Obtain new reviews "
   ]
  },
  {
   "cell_type": "code",
   "execution_count": 43,
   "metadata": {},
   "outputs": [
    {
     "data": {
      "text/plain": [
       "23"
      ]
     },
     "execution_count": 43,
     "metadata": {},
     "output_type": "execute_result"
    }
   ],
   "source": [
    "303780- 303757"
   ]
  },
  {
   "cell_type": "markdown",
   "metadata": {},
   "source": [
    "It was therefore nessery to extract the reviews from the large review.json file. This was done by obtaining the list of business_id values from the business dataset. Then the review.json file was cycled through line by line (ie. each line is one review). The 'business_id' value for each review was checked and the review was only kept if the ID was in the list of business_ids. This collection of JSON reviews was then normalized line the Business dataset. A snapshot of this dataset can be seen if Figure X. This process resulted in a dataset 303780 reviews with 7148 unique ID's. Reviews for all the busines are now present. The total number of reivews is 23 more than the business review count. This suggests some reivews are not accounted for in the business dataset. \n",
    "\n",
    "<br>\n",
    "Further analysis was conducted on the review datase and business dataset"
   ]
  },
  {
   "cell_type": "code",
   "execution_count": 11,
   "metadata": {},
   "outputs": [
    {
     "data": {
      "text/plain": [
       "7148"
      ]
     },
     "execution_count": 11,
     "metadata": {},
     "output_type": "execute_result"
    }
   ],
   "source": [
    "IDs = list(business_df['business_id'])\n",
    "len(IDs)"
   ]
  },
  {
   "cell_type": "code",
   "execution_count": 23,
   "metadata": {},
   "outputs": [
    {
     "name": "stdout",
     "output_type": "stream",
     "text": [
      "0/5261669 procesed\n",
      "200000/5261669 procesed\n",
      "400000/5261669 procesed\n",
      "600000/5261669 procesed\n",
      "800000/5261669 procesed\n",
      "1000000/5261669 procesed\n",
      "1200000/5261669 procesed\n",
      "1400000/5261669 procesed\n",
      "1600000/5261669 procesed\n",
      "1800000/5261669 procesed\n",
      "2000000/5261669 procesed\n",
      "2200000/5261669 procesed\n",
      "2400000/5261669 procesed\n",
      "2600000/5261669 procesed\n",
      "2800000/5261669 procesed\n",
      "3000000/5261669 procesed\n",
      "3200000/5261669 procesed\n",
      "3400000/5261669 procesed\n",
      "3600000/5261669 procesed\n",
      "3800000/5261669 procesed\n",
      "4000000/5261669 procesed\n",
      "4200000/5261669 procesed\n",
      "4400000/5261669 procesed\n",
      "4600000/5261669 procesed\n",
      "4800000/5261669 procesed\n",
      "5000000/5261669 procesed\n",
      "5200000/5261669 procesed\n"
     ]
    },
    {
     "data": {
      "text/plain": [
       "{'review_id': 'ymAUG8DZfQcFTBSOiaNN4w',\n",
       " 'user_id': 'u0LXt3Uea_GidxRW1xcsfg',\n",
       " 'business_id': '9_CGhHMz8698M9-PkVf0CQ',\n",
       " 'stars': 4,\n",
       " 'date': '2012-05-11',\n",
       " 'text': \"Who would have guess that you would be able to get fairly decent Vietnamese restaurant in East York? \\n\\nNot quite the same as Chinatown in terms of pricing (slightly higher) but definitely one of the better Vietnamese restaurants outside of the neighbourhood. When I don't have time to go to Chinatown, this is the next best thing as it is down the street from me.\\n\\nSo far the only items I have tried are the phos (beef, chicken & vegetarian) - and they have not disappointed me! Especially the chicken pho.\\n\\nNext time I go back, I'm going to try the banh cuon (steamed rice noodle) and the vermicelli!\",\n",
       " 'useful': 0,\n",
       " 'funny': 0,\n",
       " 'cool': 2}"
      ]
     },
     "execution_count": 23,
     "metadata": {},
     "output_type": "execute_result"
    }
   ],
   "source": [
    "reviews = [] #List of Reviews in JSON format\n",
    "# 5261669 lines in total\n",
    "count = 0\n",
    "filepath = \"data/review.json\"\n",
    "with open(filepath) as fp:  \n",
    "    line = fp.readline()\n",
    "    while line:\n",
    "        review = json.loads(line)\n",
    "        if review['business_id'] in IDs:\n",
    "            reviews.append(review)\n",
    "        line = fp.readline()\n",
    "        if count%200000 == 0: \n",
    "            print(\"{}/5261669 procesed\".format(count))\n",
    "        count = count +1\n",
    "        \n",
    "reviews[0]"
   ]
  },
  {
   "cell_type": "code",
   "execution_count": 24,
   "metadata": {},
   "outputs": [],
   "source": [
    "check_IDs = []\n",
    "for r in reviews:\n",
    "    check_IDs.append(r['business_id'])\n",
    "\n",
    "for c in check_IDs:\n",
    "    if c not in IDs:\n",
    "        print(c)"
   ]
  },
  {
   "cell_type": "code",
   "execution_count": 25,
   "metadata": {},
   "outputs": [],
   "source": [
    "reviews_df = json_normalize(reviews)"
   ]
  },
  {
   "cell_type": "code",
   "execution_count": null,
   "metadata": {},
   "outputs": [],
   "source": [
    "303757 "
   ]
  },
  {
   "cell_type": "code",
   "execution_count": 26,
   "metadata": {},
   "outputs": [
    {
     "name": "stdout",
     "output_type": "stream",
     "text": [
      "303780\n"
     ]
    },
    {
     "data": {
      "text/html": [
       "<div>\n",
       "<style scoped>\n",
       "    .dataframe tbody tr th:only-of-type {\n",
       "        vertical-align: middle;\n",
       "    }\n",
       "\n",
       "    .dataframe tbody tr th {\n",
       "        vertical-align: top;\n",
       "    }\n",
       "\n",
       "    .dataframe thead th {\n",
       "        text-align: right;\n",
       "    }\n",
       "</style>\n",
       "<table border=\"1\" class=\"dataframe\">\n",
       "  <thead>\n",
       "    <tr style=\"text-align: right;\">\n",
       "      <th></th>\n",
       "      <th>business_id</th>\n",
       "      <th>cool</th>\n",
       "      <th>date</th>\n",
       "      <th>funny</th>\n",
       "      <th>review_id</th>\n",
       "      <th>stars</th>\n",
       "      <th>text</th>\n",
       "      <th>useful</th>\n",
       "      <th>user_id</th>\n",
       "    </tr>\n",
       "  </thead>\n",
       "  <tbody>\n",
       "    <tr>\n",
       "      <th>0</th>\n",
       "      <td>9_CGhHMz8698M9-PkVf0CQ</td>\n",
       "      <td>2</td>\n",
       "      <td>2012-05-11</td>\n",
       "      <td>0</td>\n",
       "      <td>ymAUG8DZfQcFTBSOiaNN4w</td>\n",
       "      <td>4</td>\n",
       "      <td>Who would have guess that you would be able to...</td>\n",
       "      <td>0</td>\n",
       "      <td>u0LXt3Uea_GidxRW1xcsfg</td>\n",
       "    </tr>\n",
       "    <tr>\n",
       "      <th>1</th>\n",
       "      <td>5r6-G9C4YLbC7Ziz57l3rQ</td>\n",
       "      <td>0</td>\n",
       "      <td>2013-02-09</td>\n",
       "      <td>0</td>\n",
       "      <td>w41ZS9shepfO3uEyhXEWuQ</td>\n",
       "      <td>3</td>\n",
       "      <td>Not bad!! Love that there is a gluten-free, ve...</td>\n",
       "      <td>1</td>\n",
       "      <td>u0LXt3Uea_GidxRW1xcsfg</td>\n",
       "    </tr>\n",
       "    <tr>\n",
       "      <th>2</th>\n",
       "      <td>z8oIoCT1cXz7gZP5GeU5OA</td>\n",
       "      <td>0</td>\n",
       "      <td>2013-05-01</td>\n",
       "      <td>0</td>\n",
       "      <td>PIsUSmvaUWB00qv5KTF1xA</td>\n",
       "      <td>4</td>\n",
       "      <td>This is currently my parents new favourite res...</td>\n",
       "      <td>1</td>\n",
       "      <td>u0LXt3Uea_GidxRW1xcsfg</td>\n",
       "    </tr>\n",
       "    <tr>\n",
       "      <th>3</th>\n",
       "      <td>XWTPNfskXoUL-Lf32wSk0Q</td>\n",
       "      <td>1</td>\n",
       "      <td>2011-09-28</td>\n",
       "      <td>0</td>\n",
       "      <td>PdZ_uFjbbkjtm3SCY_KrZw</td>\n",
       "      <td>3</td>\n",
       "      <td>Server was a little rude.\\n\\nOrdered the calam...</td>\n",
       "      <td>5</td>\n",
       "      <td>u0LXt3Uea_GidxRW1xcsfg</td>\n",
       "    </tr>\n",
       "    <tr>\n",
       "      <th>4</th>\n",
       "      <td>RtUvSWO_UZ8V3Wpj0n077w</td>\n",
       "      <td>1</td>\n",
       "      <td>2012-12-03</td>\n",
       "      <td>1</td>\n",
       "      <td>lsoSqIrrDbQvWpMvsSj2xw</td>\n",
       "      <td>3</td>\n",
       "      <td>Wanted to check out this place due to all the ...</td>\n",
       "      <td>2</td>\n",
       "      <td>u0LXt3Uea_GidxRW1xcsfg</td>\n",
       "    </tr>\n",
       "  </tbody>\n",
       "</table>\n",
       "</div>"
      ],
      "text/plain": [
       "              business_id  cool        date  funny               review_id  \\\n",
       "0  9_CGhHMz8698M9-PkVf0CQ     2  2012-05-11      0  ymAUG8DZfQcFTBSOiaNN4w   \n",
       "1  5r6-G9C4YLbC7Ziz57l3rQ     0  2013-02-09      0  w41ZS9shepfO3uEyhXEWuQ   \n",
       "2  z8oIoCT1cXz7gZP5GeU5OA     0  2013-05-01      0  PIsUSmvaUWB00qv5KTF1xA   \n",
       "3  XWTPNfskXoUL-Lf32wSk0Q     1  2011-09-28      0  PdZ_uFjbbkjtm3SCY_KrZw   \n",
       "4  RtUvSWO_UZ8V3Wpj0n077w     1  2012-12-03      1  lsoSqIrrDbQvWpMvsSj2xw   \n",
       "\n",
       "   stars                                               text  useful  \\\n",
       "0      4  Who would have guess that you would be able to...       0   \n",
       "1      3  Not bad!! Love that there is a gluten-free, ve...       1   \n",
       "2      4  This is currently my parents new favourite res...       1   \n",
       "3      3  Server was a little rude.\\n\\nOrdered the calam...       5   \n",
       "4      3  Wanted to check out this place due to all the ...       2   \n",
       "\n",
       "                  user_id  \n",
       "0  u0LXt3Uea_GidxRW1xcsfg  \n",
       "1  u0LXt3Uea_GidxRW1xcsfg  \n",
       "2  u0LXt3Uea_GidxRW1xcsfg  \n",
       "3  u0LXt3Uea_GidxRW1xcsfg  \n",
       "4  u0LXt3Uea_GidxRW1xcsfg  "
      ]
     },
     "execution_count": 26,
     "metadata": {},
     "output_type": "execute_result"
    }
   ],
   "source": [
    "print(len(reviews_df))\n",
    "reviews_df.to_csv(\"data/reviews.csv\",index=False)\n",
    "reviews_df.head()"
   ]
  },
  {
   "cell_type": "code",
   "execution_count": 28,
   "metadata": {},
   "outputs": [
    {
     "data": {
      "text/plain": [
       "7148"
      ]
     },
     "execution_count": 28,
     "metadata": {},
     "output_type": "execute_result"
    }
   ],
   "source": [
    "reviews_df['business_id'].nunique()"
   ]
  },
  {
   "cell_type": "code",
   "execution_count": null,
   "metadata": {},
   "outputs": [],
   "source": []
  }
 ],
 "metadata": {
  "kernelspec": {
   "display_name": "Python 3",
   "language": "python",
   "name": "python3"
  },
  "language_info": {
   "codemirror_mode": {
    "name": "ipython",
    "version": 3
   },
   "file_extension": ".py",
   "mimetype": "text/x-python",
   "name": "python",
   "nbconvert_exporter": "python",
   "pygments_lexer": "ipython3",
   "version": "3.6.8"
  }
 },
 "nbformat": 4,
 "nbformat_minor": 2
}
